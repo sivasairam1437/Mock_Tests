{
 "cells": [
  {
   "cell_type": "markdown",
   "id": "781beaf5-4018-411f-892a-ce2aa41b750c",
   "metadata": {},
   "source": [
    "You are given two non-empty linked lists representing two non-negative integers. The digits are stored in reverse order, and each of their nodes contains a single digit. Add the two numbers and return the sum as a linked list.\n",
    "\n",
    "You may assume the two numbers do not contain any leading zero, except the number 0 itself.\n",
    "\n",
    "\n",
    "Example 1:\n",
    "\n",
    "Input: l1 = [2,4,3], l2 = [5,6,4] Output: [7,0,8] Explanation: 342 + 465 = 807.\n",
    "\n",
    "Example 2:\n",
    "\n",
    "Input: l1 = [0], l2 = [0] Output: [0]\n",
    "\n",
    "Example 3:\n",
    "\n",
    "Input: l1 = [9,9,9,9,9,9,9], l2 = [9,9,9,9] Output: [8,9,9,9,0,0,0,1]\n",
    "\n",
    " \n",
    "\n",
    "Constraints:\n",
    "\n",
    "The number of nodes in each linked list is in the range [1, 100].\n",
    "0 <= Node.val <= 9 It is guaranteed that the list represents a number that does not have leading zeros."
   ]
  },
  {
   "cell_type": "code",
   "execution_count": null,
   "id": "035bba3f-a220-4c95-a7fc-3ddd09064904",
   "metadata": {},
   "outputs": [
    {
     "data": {
      "text/plain": [
       "[7, 0, 8]"
      ]
     },
     "execution_count": 1,
     "metadata": {},
     "output_type": "execute_result"
    }
   ],
   "source": [
    "class ListNode:\n",
    "    def _init_(self, val=0, next=None):\n",
    "        self.val = val\n",
    "        self.next = next\n",
    "class Solution:\n",
    "    def addTwoNumbers(self, l1: ListNode, l2: ListNode) -> ListNode:\n",
    "        integered_l1 = self.list_to_digits(l1)\n",
    "        integered_l2 = self.list_to_digits(l2)\n",
    "        sum_Integers = integered_l1 + integered_l2\n",
    "        list_ofSum = self.Convert_IntegersToList(sum_Integers)\n",
    "        return(list_ofSum)\n",
    "    def list_to_digits(self,lst):\n",
    "        lst.reverse()\n",
    "        strings = map(str, lst) \n",
    "        a_string = \"\". join(strings)\n",
    "        an_integer = int(a_string)\n",
    "        return an_integer\n",
    "\n",
    "    def Convert_IntegersToList(self,integers):\n",
    "        res = list(map(int, str(integers))) \n",
    "        res.reverse()\n",
    "        return(res)\n",
    "l1 = [2,4,3]\n",
    "l2 = [5,6,4]\n",
    "output_list = Solution()\n",
    "output_list.addTwoNumbers(l1,l2)"
   ]
  },
  {
   "cell_type": "code",
   "execution_count": 3,
   "id": "b2f8d2f8-801f-488a-8c72-ded58438f7c8",
   "metadata": {},
   "outputs": [
    {
     "data": {
      "text/plain": [
       "[8, 9, 9, 9, 0, 0, 0, 1]"
      ]
     },
     "execution_count": 3,
     "metadata": {},
     "output_type": "execute_result"
    }
   ],
   "source": [
    "l3 = [9,9,9,9,9,9,9]\n",
    "l4 = [9,9,9,9]\n",
    "output_list.addTwoNumbers(l3,l4)"
   ]
  }
 ],
 "metadata": {
  "kernelspec": {
   "display_name": "Python 3 (ipykernel)",
   "language": "python",
   "name": "python3"
  },
  "language_info": {
   "codemirror_mode": {
    "name": "ipython",
    "version": 3
   },
   "file_extension": ".py",
   "mimetype": "text/x-python",
   "name": "python",
   "nbconvert_exporter": "python",
   "pygments_lexer": "ipython3",
   "version": "3.10.6"
  }
 },
 "nbformat": 4,
 "nbformat_minor": 5
}
