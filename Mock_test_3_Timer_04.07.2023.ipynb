{
 "cells": [
  {
   "cell_type": "code",
   "execution_count": 1,
   "id": "1c07aee3-2e8c-4105-b32e-dab9d8913a71",
   "metadata": {},
   "outputs": [
    {
     "name": "stdout",
     "output_type": "stream",
     "text": [
      "2.384185791015625e-07\n"
     ]
    },
    {
     "data": {
      "text/plain": [
       "'execution time'"
      ]
     },
     "execution_count": 1,
     "metadata": {},
     "output_type": "execute_result"
    }
   ],
   "source": [
    "import time\n",
    "\n",
    "def timer(own_func):\n",
    "    start_time = time.time()\n",
    "    output=time.time()-start_time\n",
    "    print(output)\n",
    "    return own_func\n",
    "\n",
    "@timer\n",
    "def my_function():\n",
    "    return \"execution time\"\n",
    "my_function()"
   ]
  }
 ],
 "metadata": {
  "kernelspec": {
   "display_name": "Python 3 (ipykernel)",
   "language": "python",
   "name": "python3"
  },
  "language_info": {
   "codemirror_mode": {
    "name": "ipython",
    "version": 3
   },
   "file_extension": ".py",
   "mimetype": "text/x-python",
   "name": "python",
   "nbconvert_exporter": "python",
   "pygments_lexer": "ipython3",
   "version": "3.10.6"
  }
 },
 "nbformat": 4,
 "nbformat_minor": 5
}
