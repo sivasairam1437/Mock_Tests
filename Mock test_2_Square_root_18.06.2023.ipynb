{
 "cells": [
  {
   "cell_type": "markdown",
   "id": "c5722190-5cbb-412a-b272-4c6b1bc80c6f",
   "metadata": {},
   "source": [
    "Given a non-negative integer x, return the square root of x rounded down to the nearest integer. The returned integer should be non-negative as well. You must not use any built-in exponent function or operator. \n",
    "\n",
    " Example 1:\n",
    "Input: x = 4 Output: 2 Explanation: The square root of 4 is 2, so we return 2.\n",
    "Example 2:\n",
    "\n",
    "Input: x = 8 Output: 2 Explanation: The square root of 8 is 2.82842..., and since we round it down to the nearest integer, 2 is returned.\n",
    "Constraints:\n",
    "\n",
    "0 <= x <= 2^31 - 1\n"
   ]
  },
  {
   "cell_type": "code",
   "execution_count": 11,
   "id": "1b65fbae-2e81-4012-9a43-f5d84e7f1b1b",
   "metadata": {},
   "outputs": [
    {
     "name": "stdout",
     "output_type": "stream",
     "text": [
      "9\n"
     ]
    }
   ],
   "source": [
    "class solution:\n",
    "def mySqrt(self, x: int) -> int:\n",
    "    if x == 0:\n",
    "        return 0\n",
    "    for i in range(1,x+1):\n",
    "        if i * i == x:\n",
    "            return i\n",
    "        elif i * i > x:\n",
    "            return (i-1)\n",
    "obj=solution()\n",
    "print(obj.mySqrt(81))"
   ]
  }
 ],
 "metadata": {
  "kernelspec": {
   "display_name": "Python 3 (ipykernel)",
   "language": "python",
   "name": "python3"
  },
  "language_info": {
   "codemirror_mode": {
    "name": "ipython",
    "version": 3
   },
   "file_extension": ".py",
   "mimetype": "text/x-python",
   "name": "python",
   "nbconvert_exporter": "python",
   "pygments_lexer": "ipython3",
   "version": "3.10.6"
  }
 },
 "nbformat": 4,
 "nbformat_minor": 5
}
